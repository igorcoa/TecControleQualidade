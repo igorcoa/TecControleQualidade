{
  "cells": [
    {
      "cell_type": "markdown",
      "metadata": {
        "id": "LTFljpHZ0ujM"
      },
      "source": [
        "###### Bibliotecas"
      ]
    },
    {
      "cell_type": "code",
      "execution_count": null,
      "metadata": {
        "colab": {
          "base_uri": "https://localhost:8080/"
        },
        "id": "9r6_rXZ1DqnF",
        "outputId": "85303132-16d5-478b-cc88-c71dc564cd23"
      },
      "outputs": [
        {
          "output_type": "stream",
          "name": "stdout",
          "text": [
            "Collecting kora\n",
            "  Downloading kora-0.9.20-py3-none-any.whl (57 kB)\n",
            "\u001b[?25l\r\u001b[K     |█████▊                          | 10 kB 28.8 MB/s eta 0:00:01\r\u001b[K     |███████████▍                    | 20 kB 18.2 MB/s eta 0:00:01\r\u001b[K     |█████████████████               | 30 kB 10.1 MB/s eta 0:00:01\r\u001b[K     |██████████████████████▊         | 40 kB 8.2 MB/s eta 0:00:01\r\u001b[K     |████████████████████████████▍   | 51 kB 5.1 MB/s eta 0:00:01\r\u001b[K     |████████████████████████████████| 57 kB 3.0 MB/s \n",
            "\u001b[?25hRequirement already satisfied: ipython in /usr/local/lib/python3.7/dist-packages (from kora) (5.5.0)\n",
            "Collecting fastcore\n",
            "  Downloading fastcore-1.4.2-py3-none-any.whl (60 kB)\n",
            "\u001b[K     |████████████████████████████████| 60 kB 7.6 MB/s \n",
            "\u001b[?25hRequirement already satisfied: packaging in /usr/local/lib/python3.7/dist-packages (from fastcore->kora) (21.3)\n",
            "Requirement already satisfied: pip in /usr/local/lib/python3.7/dist-packages (from fastcore->kora) (21.1.3)\n",
            "Requirement already satisfied: setuptools>=18.5 in /usr/local/lib/python3.7/dist-packages (from ipython->kora) (57.4.0)\n",
            "Requirement already satisfied: simplegeneric>0.8 in /usr/local/lib/python3.7/dist-packages (from ipython->kora) (0.8.1)\n",
            "Requirement already satisfied: decorator in /usr/local/lib/python3.7/dist-packages (from ipython->kora) (4.4.2)\n",
            "Requirement already satisfied: pexpect in /usr/local/lib/python3.7/dist-packages (from ipython->kora) (4.8.0)\n",
            "Requirement already satisfied: prompt-toolkit<2.0.0,>=1.0.4 in /usr/local/lib/python3.7/dist-packages (from ipython->kora) (1.0.18)\n",
            "Requirement already satisfied: pygments in /usr/local/lib/python3.7/dist-packages (from ipython->kora) (2.6.1)\n",
            "Requirement already satisfied: pickleshare in /usr/local/lib/python3.7/dist-packages (from ipython->kora) (0.7.5)\n",
            "Requirement already satisfied: traitlets>=4.2 in /usr/local/lib/python3.7/dist-packages (from ipython->kora) (5.1.1)\n",
            "Requirement already satisfied: wcwidth in /usr/local/lib/python3.7/dist-packages (from prompt-toolkit<2.0.0,>=1.0.4->ipython->kora) (0.2.5)\n",
            "Requirement already satisfied: six>=1.9.0 in /usr/local/lib/python3.7/dist-packages (from prompt-toolkit<2.0.0,>=1.0.4->ipython->kora) (1.15.0)\n",
            "Requirement already satisfied: pyparsing!=3.0.5,>=2.0.2 in /usr/local/lib/python3.7/dist-packages (from packaging->fastcore->kora) (3.0.8)\n",
            "Requirement already satisfied: ptyprocess>=0.5 in /usr/local/lib/python3.7/dist-packages (from pexpect->ipython->kora) (0.7.0)\n",
            "Installing collected packages: fastcore, kora\n",
            "Successfully installed fastcore-1.4.2 kora-0.9.20\n"
          ]
        }
      ],
      "source": [
        "!pip install -U kora"
      ]
    },
    {
      "cell_type": "code",
      "execution_count": null,
      "metadata": {
        "colab": {
          "base_uri": "https://localhost:8080/"
        },
        "id": "lGJDePWNVb7w",
        "outputId": "d11338c8-6429-4ee7-bba6-c16633b59d4d"
      },
      "outputs": [
        {
          "output_type": "stream",
          "name": "stdout",
          "text": [
            "Collecting spicy\n",
            "  Downloading spicy-0.16.0-py2.py3-none-any.whl (1.7 kB)\n",
            "Requirement already satisfied: scipy in /usr/local/lib/python3.7/dist-packages (from spicy) (1.4.1)\n",
            "Requirement already satisfied: numpy>=1.13.3 in /usr/local/lib/python3.7/dist-packages (from scipy->spicy) (1.21.6)\n",
            "Installing collected packages: spicy\n",
            "Successfully installed spicy-0.16.0\n"
          ]
        }
      ],
      "source": [
        "!pip install spicy"
      ]
    },
    {
      "cell_type": "code",
      "execution_count": null,
      "metadata": {
        "colab": {
          "base_uri": "https://localhost:8080/"
        },
        "id": "_s7E4w1t2lfp",
        "outputId": "bbbc7a9c-0fec-4399-80ba-835087ffaaf0"
      },
      "outputs": [
        {
          "output_type": "stream",
          "name": "stdout",
          "text": [
            "Imageio: 'ffmpeg-linux64-v3.3.1' was not found on your computer; downloading it now.\n",
            "Try 1. Download from https://github.com/imageio/imageio-binaries/raw/master/ffmpeg/ffmpeg-linux64-v3.3.1 (43.8 MB)\n",
            "Downloading: 8192/45929032 bytes (0.0%)\b\b\b\b\b\b\b\b\b\b\b\b\b\b\b\b\b\b\b\b\b\b\b\b\b\b2007040/45929032 bytes (4.4%)\b\b\b\b\b\b\b\b\b\b\b\b\b\b\b\b\b\b\b\b\b\b\b\b\b\b\b\b\b5177344/45929032 bytes (11.3%)\b\b\b\b\b\b\b\b\b\b\b\b\b\b\b\b\b\b\b\b\b\b\b\b\b\b\b\b\b\b8282112/45929032 bytes (18.0%)\b\b\b\b\b\b\b\b\b\b\b\b\b\b\b\b\b\b\b\b\b\b\b\b\b\b\b\b\b\b12533760/45929032 bytes (27.3%)\b\b\b\b\b\b\b\b\b\b\b\b\b\b\b\b\b\b\b\b\b\b\b\b\b\b\b\b\b\b\b16531456/45929032 bytes (36.0%)\b\b\b\b\b\b\b\b\b\b\b\b\b\b\b\b\b\b\b\b\b\b\b\b\b\b\b\b\b\b\b20512768/45929032 bytes (44.7%)\b\b\b\b\b\b\b\b\b\b\b\b\b\b\b\b\b\b\b\b\b\b\b\b\b\b\b\b\b\b\b24412160/45929032 bytes (53.2%)\b\b\b\b\b\b\b\b\b\b\b\b\b\b\b\b\b\b\b\b\b\b\b\b\b\b\b\b\b\b\b28524544/45929032 bytes (62.1%)\b\b\b\b\b\b\b\b\b\b\b\b\b\b\b\b\b\b\b\b\b\b\b\b\b\b\b\b\b\b\b32727040/45929032 bytes (71.3%)\b\b\b\b\b\b\b\b\b\b\b\b\b\b\b\b\b\b\b\b\b\b\b\b\b\b\b\b\b\b\b36519936/45929032 bytes (79.5%)\b\b\b\b\b\b\b\b\b\b\b\b\b\b\b\b\b\b\b\b\b\b\b\b\b\b\b\b\b\b\b40583168/45929032 bytes (88.4%)\b\b\b\b\b\b\b\b\b\b\b\b\b\b\b\b\b\b\b\b\b\b\b\b\b\b\b\b\b\b\b44507136/45929032 bytes (96.9%)\b\b\b\b\b\b\b\b\b\b\b\b\b\b\b\b\b\b\b\b\b\b\b\b\b\b\b\b\b\b\b45929032/45929032 bytes (100.0%)\n",
            "  Done\n",
            "File saved as /root/.imageio/ffmpeg/ffmpeg-linux64-v3.3.1.\n"
          ]
        },
        {
          "output_type": "display_data",
          "data": {
            "text/plain": [
              "<IPython.core.display.HTML object>"
            ],
            "text/html": [
              "\n",
              "        <progress\n",
              "            value='0'\n",
              "            max='5000',\n",
              "            style='width: 100%'\n",
              "        >\n",
              "            0\n",
              "        </progress>\n",
              "    "
            ]
          },
          "metadata": {}
        }
      ],
      "source": [
        "import numpy as np\n",
        "import math\n",
        "import statistics as st\n",
        "import pandas as pd\n",
        "import matplotlib\n",
        "import matplotlib.pyplot as plt\n",
        "import matplotlib.image as mpimg\n",
        "from matplotlib.pyplot import figure\n",
        "import glob\n",
        "from PIL import Image\n",
        "from google.colab import files\n",
        "import imageio\n",
        "import moviepy.editor as mp\n",
        "from kora.drive import upload_public\n",
        "import time\n",
        "from scipy.stats import norm\n",
        "\n",
        "from IPython.display import HTML, display\n",
        "from IPython.display import clear_output\n",
        "def progress(value, max=100):\n",
        "    return HTML(\"\"\"\n",
        "        <progress\n",
        "            value='{value}'\n",
        "            max='{max}',\n",
        "            style='width: 100%'\n",
        "        >\n",
        "            {value}\n",
        "        </progress>\n",
        "    \"\"\".format(value=value, max=max))\n",
        "out = display(progress(0, 5000), display_id=True)"
      ]
    },
    {
      "cell_type": "markdown",
      "metadata": {
        "id": "FvhH9OEL4aW9"
      },
      "source": [
        "# Gráfico de Controle"
      ]
    },
    {
      "cell_type": "markdown",
      "metadata": {
        "id": "cTloXtuG4gZs"
      },
      "source": [
        "## Introdução\n",
        "\n",
        "Gráficos de controle do tipo $x̄$ são muito úteis para análise de uma produção. Eles lançam mão do Teorema do Limite Central do Limite, que afirma que quando o tamanho da amostra aumenta, a distribuição amostral da sua média aproxima cada vez mais da distribuição normal.\n",
        "\n",
        "A aplicação disso numa linha de produção é justamente tomar a medida média de uma amostra de 5 itens por vez, de forma a entender se o processo está sob controle estatístico ou não.\n",
        "\n",
        "Para visualizar isso, é comum utilizar os gráficos de controle, onde traça-se três linhas horizontais, uma contendo o *Limite Superior de Controle*, outra é o *Limite Inferior de Controle* e, entre elas, a linha contendo a média.\n",
        "\n",
        "## Limites de Controle\n",
        "\n",
        "É convencionado utilizar para os limites de controle o valor de mais e menos 3 vezes o desvio padrão de um conjunto de amostras. Iremos calcular tudo isso a seguir."
      ]
    },
    {
      "cell_type": "markdown",
      "metadata": {
        "id": "Iza1aSIv-zD4"
      },
      "source": [
        "## Simulando Amostragem"
      ]
    },
    {
      "cell_type": "markdown",
      "metadata": {
        "id": "SV2YKHjp6_By"
      },
      "source": [
        "\n",
        "\n",
        "Vai ser muito útil à análise presente simular uma situação de produção por meio de um código que gere valores aleatórios. Aqui será simulada uma operação de embalagem de milhos de pipoca, contendo 500$g$ em cada pacote.\n",
        "\n",
        "Podemos definir uma função genérica para utilizar quando necessário:"
      ]
    },
    {
      "cell_type": "code",
      "execution_count": null,
      "metadata": {
        "id": "lYj37Gur3tAj"
      },
      "outputs": [],
      "source": [
        "def amostragem(conteudoNominal=500,n=5,dp=1.0):\n",
        "  a = np.random.normal(size=n,scale = dp)\n",
        "  a = a+conteudoNominal\n",
        "  a = np.round(a,2)\n",
        "  x = np.round(np.mean(a),2)\n",
        "  amplitude = max(a)-min(a)\n",
        "  r = {\"mediaAmostral\" : x,\n",
        "       \"amplitude\" : amplitude,\n",
        "       \"amostra\" : a.tolist()}\n",
        "  return r"
      ]
    },
    {
      "cell_type": "code",
      "execution_count": null,
      "metadata": {
        "colab": {
          "base_uri": "https://localhost:8080/"
        },
        "id": "sGzjvZBk42e5",
        "outputId": "a43dcf77-5abf-4958-d327-77858c81ab63"
      },
      "outputs": [
        {
          "output_type": "execute_result",
          "data": {
            "text/plain": [
              "{'amostra': [499.09, 499.59, 499.53, 501.57, 499.38],\n",
              " 'amplitude': 2.480000000000018,\n",
              " 'mediaAmostral': 499.83}"
            ]
          },
          "metadata": {},
          "execution_count": 5
        }
      ],
      "source": [
        "amostra = amostragem()\n",
        "amostra"
      ]
    },
    {
      "cell_type": "markdown",
      "metadata": {
        "id": "vs4dZixL7a4A"
      },
      "source": [
        "Aqui temos, portanto, uma variável contendo as informações relevantes sobre uma amostragem de $n=5$ elementos. Sento estas informações:\n",
        "* Média Amostral (`\"mediaAmostral\"`);\n",
        "* Amplitude da Amostra (`\"amplitude\"`);\n",
        "* Valores da amostra (`\"amostra\"`).\n",
        "\n",
        "Avançando mais, podemos fazer um loop de várias amostras para estabelecer os valores necessários posteriormente ao gráfico de controle."
      ]
    },
    {
      "cell_type": "code",
      "execution_count": null,
      "metadata": {
        "id": "YMTfs2Wq7aTe"
      },
      "outputs": [],
      "source": [
        "numeroAmostra = 1000000\n",
        "muitasAmostras = []\n",
        "muitasAmostras_amplitude = []\n",
        "for i in range(0,numeroAmostra):\n",
        "  muitasAmostras.append(amostragem()[\"mediaAmostral\"])\n",
        "  muitasAmostras_amplitude.append(amostragem()[\"amplitude\"])"
      ]
    },
    {
      "cell_type": "code",
      "execution_count": null,
      "metadata": {
        "colab": {
          "base_uri": "https://localhost:8080/"
        },
        "id": "8rrAKhF2834D",
        "outputId": "bddffd33-4189-4c10-f32c-157975bdbc0b"
      },
      "outputs": [
        {
          "output_type": "stream",
          "name": "stdout",
          "text": [
            "Média de  1000000  amostras:  500.0\n",
            "Desvio Padrão:  0.4473\n",
            "{'limSup': 501.34181306261866, 'limInf': 498.65818693738134}\n"
          ]
        }
      ],
      "source": [
        "media = np.round(np.mean(muitasAmostras),3)\n",
        "desvioPadrao = st.stdev(muitasAmostras)\n",
        "\n",
        "print(\"Média de \",numeroAmostra,\" amostras: \", media)\n",
        "print(\"Desvio Padrão: \", np.round(desvioPadrao,4))\n",
        "\n",
        "limSup = media+(3*desvioPadrao)\n",
        "limInf = media-(3*desvioPadrao)\n",
        "lim = {\"limSup\":limSup,\n",
        "       \"limInf\":limInf}\n",
        "print(lim)"
      ]
    },
    {
      "cell_type": "markdown",
      "metadata": {
        "id": "4gqpyFZS-IaU"
      },
      "source": [
        "Percebemos que para 1 milhão de amostras, a média é de $500$ com o desvio padrão de $0,4476$. Produzindo os limites superior e inferior conforme declarados acima.\n",
        "\n",
        "Podemos plotar essas amostras no gráfico e ver quando uma distribuição está sob o devido controle estatístico qual é a cara dela:"
      ]
    },
    {
      "cell_type": "code",
      "execution_count": null,
      "metadata": {
        "colab": {
          "base_uri": "https://localhost:8080/",
          "height": 609
        },
        "id": "iVgAgs_3AHke",
        "outputId": "d63c352b-9b4a-4bbd-874e-834f7d0ab1ce"
      },
      "outputs": [
        {
          "output_type": "execute_result",
          "data": {
            "text/plain": [
              "<matplotlib.lines.Line2D at 0x7f386812fdd0>"
            ]
          },
          "metadata": {},
          "execution_count": 36
        },
        {
          "output_type": "display_data",
          "data": {
            "text/plain": [
              "<Figure size 864x720 with 1 Axes>"
            ],
            "image/png": "[encoded data removed]"
          },
          "metadata": {
            "needs_background": "light"
          }
        }
      ],
      "source": [
        "matplotlib.pyplot.hist(muitasAmostras, bins=20)\n",
        "plt.axvline(x=500,color=\"green\")\n",
        "plt.axvline(x=limSup,color=\"red\")\n",
        "plt.axvline(x=limInf,color=\"red\")"
      ]
    },
    {
      "cell_type": "markdown",
      "metadata": {
        "id": "g9xb3Mn0CL9j"
      },
      "source": [
        "Podemos calcular agora exatamente qual a porcentagem de valores é compreendido pelo limite superior e inferior estipulado pela fórmula anterior:"
      ]
    },
    {
      "cell_type": "code",
      "execution_count": null,
      "metadata": {
        "colab": {
          "base_uri": "https://localhost:8080/"
        },
        "id": "J-3bCimxApqt",
        "outputId": "c53ab968-b76b-4596-b98a-045480b088ea"
      },
      "outputs": [
        {
          "output_type": "stream",
          "name": "stdout",
          "text": [
            "99.735 %\n"
          ]
        }
      ],
      "source": [
        "filtro = filter(lambda amostra: amostra < limSup, muitasAmostras)\n",
        "filtro = filter(lambda amostra: amostra > limInf, filtro)\n",
        "filtro = list(filtro)\n",
        "print(len(filtro)/len(muitasAmostras)*100,\"%\")"
      ]
    },
    {
      "cell_type": "markdown",
      "metadata": {
        "id": "9ONGB0YtBToB"
      },
      "source": [
        "## Análise da Amplitude para construção do Gráfico de $R$"
      ]
    },
    {
      "cell_type": "markdown",
      "metadata": {
        "id": "PEPvUw1ZBZTR"
      },
      "source": [
        "Existe uma outra forma de estimar os limites superior e inferior de um gráfico de controle. Nele, medimos a amplitude dentro das amostras, chamada de $R$ e depois utilizamos a média dessas amplitudes, $R̄$ ($R$ barra). Pegamos então este valor e dividimos por um valor tabelado em função do número de amostras dentro da amostra considerada, no nosso caso $n = 5$. Após isso, pegamos o quociente da divisão anterior e dividimos por $ \\sqrt{n} $."
      ]
    },
    {
      "cell_type": "code",
      "execution_count": null,
      "metadata": {
        "id": "BuwEqjoUBZCZ"
      },
      "outputs": [],
      "source": [
        "rBarra = np.mean(muitasAmostras_amplitude)\n",
        "desvioPadraoEst = rBarra/(2.326*np.sqrt(5))\n",
        "desvioPadraoAmplitude = st.stdev(muitasAmostras_amplitude)"
      ]
    },
    {
      "cell_type": "code",
      "execution_count": null,
      "metadata": {
        "colab": {
          "base_uri": "https://localhost:8080/"
        },
        "id": "tY6NC-ZgC30L",
        "outputId": "eb261734-148a-47a2-8785-054ce4b1a5db"
      },
      "outputs": [
        {
          "output_type": "stream",
          "name": "stdout",
          "text": [
            "0.44728 0.44727\n"
          ]
        }
      ],
      "source": [
        "print(np.round(desvioPadraoEst, 5), np.round(desvioPadrao, 5))"
      ]
    },
    {
      "cell_type": "code",
      "execution_count": null,
      "metadata": {
        "colab": {
          "base_uri": "https://localhost:8080/"
        },
        "id": "FM9jNuYTPjYB",
        "outputId": "1142c09d-9fd6-495e-9cb8-54443792355e"
      },
      "outputs": [
        {
          "output_type": "stream",
          "name": "stdout",
          "text": [
            "0.8646816388315685\n"
          ]
        }
      ],
      "source": [
        "print(desvioPadraoAmplitude)"
      ]
    },
    {
      "cell_type": "markdown",
      "metadata": {
        "id": "Y4p1zzplE5ST"
      },
      "source": [
        "Podemos perceber que o valor é extremamente próximo, portanto a aproximação ou estimativa geralmente considera é suficiente para fins práticos. Todavia, como aqui temos acesso à distribuição utilizada, continuaremos com o desvio padrão calculado da forma usual, mas de toda forma, poderia se considerar o desvio estimado através, portanto, de:\n",
        "\n",
        ">$\\hat{\\sigma }\\:=\\:\\frac{\\bar{R}}{d_2\\sqrt{n}}$\n",
        "\n",
        "De forma análoga, vamos estudar a estimativa e o valor real para os limites superior e inferior do gráfico das amplitudes:"
      ]
    },
    {
      "cell_type": "code",
      "execution_count": null,
      "metadata": {
        "colab": {
          "base_uri": "https://localhost:8080/"
        },
        "id": "mR0AGxTxG4Yr",
        "outputId": "470ac970-2063-4b29-adf2-ca6797c6e09a"
      },
      "outputs": [
        {
          "output_type": "stream",
          "name": "stdout",
          "text": [
            "2.5924 2.59404\n"
          ]
        }
      ],
      "source": [
        "rBarraIntervaloEst = 0.864*3*rBarra/2.326\n",
        "rBarraIntervalo = 3*desvioPadraoAmplitude\n",
        "\n",
        "print(np.round(rBarraIntervaloEst, 5), np.round(rBarraIntervalo, 5))\n"
      ]
    },
    {
      "cell_type": "markdown",
      "metadata": {
        "id": "_6-jsFMCIbm2"
      },
      "source": [
        "Podemos então definir os limites do gráfico de controle das amplitudes através de:"
      ]
    },
    {
      "cell_type": "code",
      "execution_count": null,
      "metadata": {
        "colab": {
          "base_uri": "https://localhost:8080/"
        },
        "id": "NPmg4Tl7Ih9O",
        "outputId": "e99c6a48-808a-4abb-f597-08c3b7ef37c5"
      },
      "outputs": [
        {
          "output_type": "stream",
          "name": "stdout",
          "text": [
            "4.920403276494705 0.0\n"
          ]
        }
      ],
      "source": [
        "limSupAmp = rBarra+rBarraIntervalo\n",
        "limInfAmp = rBarra-rBarraIntervalo\n",
        "\n",
        "if limInfAmp<0.0:\n",
        "  limInfAmp = 0.0\n",
        "\n",
        "print(limSupAmp,limInfAmp)"
      ]
    },
    {
      "cell_type": "markdown",
      "metadata": {
        "id": "4wDV5J9S-qHS"
      },
      "source": [
        "## Criando uma série para Plotar o Gráfico de Controle"
      ]
    },
    {
      "cell_type": "markdown",
      "metadata": {
        "id": "mWlMCG7U-wzB"
      },
      "source": [
        "Precisaremos criar uma maneira de manter uma lista de 25 itens de forma a montar o gráfico de controle e fazê-lo caminhar conforme a amostragem é feita. Primeiro declaramos uma lista com 25 médias amostrais e depois criamos uma função para  inserir uma nova amostra ao final da lista sempre que for chamada."
      ]
    },
    {
      "cell_type": "code",
      "execution_count": null,
      "metadata": {
        "id": "u15kg1X688_B"
      },
      "outputs": [],
      "source": [
        "serie = []\n",
        "for i in range(0,25):\n",
        "  serie.append(amostragem()[\"mediaAmostral\"])\n",
        "\n",
        "serieAmp = []\n",
        "for i in range(0,25):\n",
        "  serieAmp.append(amostragem()[\"amplitude\"])"
      ]
    },
    {
      "cell_type": "code",
      "execution_count": null,
      "metadata": {
        "id": "ZGDz41kN_iFM"
      },
      "outputs": [],
      "source": [
        "def novaAmostra(serie, conteudoNominal=500,dp=1.0):\n",
        "  serie.insert(25, amostragem(conteudoNominal,dp=dp)[\"mediaAmostral\"])\n",
        "  r = serie[1:25]\n",
        "  return r\n",
        "\n",
        "def novaAmostraAmp(serie,conteudoNominal=500,dp=1.0):\n",
        "  serie.insert(25, amostragem(conteudoNominal,dp=dp)[\"amplitude\"])\n",
        "  r = serie[1:25]\n",
        "  return r  "
      ]
    },
    {
      "cell_type": "code",
      "execution_count": null,
      "metadata": {
        "colab": {
          "base_uri": "https://localhost:8080/"
        },
        "id": "Qm2egMvp_1Mq",
        "outputId": "a60c6428-6a6d-45c0-8a19-c0554c19dd57"
      },
      "outputs": [
        {
          "output_type": "stream",
          "name": "stdout",
          "text": [
            "[500.45, 500.55, 500.07, 499.88, 499.62, 500.13, 500.25, 500.17, 500.08, 500.1, 500.74, 500.37, 500.47, 500.5, 499.61, 499.52, 500.8, 499.39, 499.78, 500.54, 499.48, 499.3, 499.65, 499.9]\n"
          ]
        }
      ],
      "source": [
        "serie = novaAmostra(serie)\n",
        "print(serie)"
      ]
    },
    {
      "cell_type": "code",
      "execution_count": null,
      "metadata": {
        "id": "yckvf5fyx4_p"
      },
      "outputs": [],
      "source": [
        "def novaAmostraGlobal(serie, serieAmp, conteudoNominal=500,dp=1.0):\n",
        "  nv = amostragem(conteudoNominal=conteudoNominal,dp=dp)\n",
        "  serie.insert(25, nv[\"mediaAmostral\"])\n",
        "  serieAmp.insert(25, nv[\"amplitude\"])\n",
        "  nvSerie = serie[1:25]\n",
        "  nvSerieAmp = serieAmp[1:25]\n",
        "  d = {\"mediaAmostral\" : nvSerie,\n",
        "       \"amplitude\" : nvSerieAmp}\n",
        "  return d"
      ]
    },
    {
      "cell_type": "code",
      "execution_count": null,
      "metadata": {
        "id": "grAvtfH1yuni"
      },
      "outputs": [],
      "source": [
        "nvSerie = novaAmostraGlobal(serie,serieAmp)\n",
        "serie = nvSerie[\"mediaAmostral\"]\n",
        "serieAmp = nvSerie[\"amplitude\"]"
      ]
    },
    {
      "cell_type": "markdown",
      "metadata": {
        "id": "etTNp_P2_a2b"
      },
      "source": [
        "Podemos agora, pela primeira vez, plotar um gráfico de controle:"
      ]
    },
    {
      "cell_type": "code",
      "execution_count": null,
      "metadata": {
        "colab": {
          "base_uri": "https://localhost:8080/"
        },
        "id": "-7wtjypb7Ys5",
        "outputId": "c3124fec-e979-42f0-d993-93d6fcf995a0"
      },
      "outputs": [
        {
          "output_type": "execute_result",
          "data": {
            "text/plain": [
              "<matplotlib.lines.Line2D at 0x7f386862cf50>"
            ]
          },
          "metadata": {},
          "execution_count": 21
        },
        {
          "output_type": "display_data",
          "data": {
            "text/plain": [
              "<Figure size 432x288 with 1 Axes>"
            ],
            "image/png": "[encoded data removed]"
          },
          "metadata": {
            "needs_background": "light"
          }
        }
      ],
      "source": [
        "serie = novaAmostra(serie)\n",
        "s = pd.Series(serie)\n",
        "s.plot(use_index=False,ylim=(496,504))\n",
        "plt.axhline(y=500,color=\"green\")\n",
        "plt.axhline(y=limSup,color=\"red\")\n",
        "plt.axhline(y=limInf,color=\"red\")"
      ]
    },
    {
      "cell_type": "markdown",
      "metadata": {
        "id": "yTNN_KygQlJr"
      },
      "source": [
        "Vamos agora avançar um pouco na plotagem e inserir, também o gráfico de amplitude logo abaixo do gráfico com a média:"
      ]
    },
    {
      "cell_type": "markdown",
      "metadata": {
        "id": "09w-B6W3AbW4"
      },
      "source": [
        "Para criar o gráfico de controle animado, que se move como seria em um chão de fábrica, primeiro precisamos criar uma estrutura de repetição que avance em um número de $n$ amostras no tempo. Fazendo isso para um $n=100$:"
      ]
    },
    {
      "cell_type": "markdown",
      "metadata": {
        "id": "TY1j11gwRTOv"
      },
      "source": [
        "### Gráfico de $X̄$ e $R̄$"
      ]
    },
    {
      "cell_type": "code",
      "execution_count": null,
      "metadata": {
        "colab": {
          "base_uri": "https://localhost:8080/"
        },
        "id": "t73ArtlDRXXP",
        "outputId": "d9e0d7aa-4ae6-4b60-9881-b8066f2ab173"
      },
      "outputs": [
        {
          "output_type": "execute_result",
          "data": {
            "text/plain": [
              "<IPython.core.display.HTML object>"
            ],
            "text/html": [
              "<video src=https://drive.google.com/uc?id=1ITvnmJn9BLnyvEMcNW1NUlpjxDt4LBmQ width=800 controls/>"
            ]
          },
          "metadata": {},
          "execution_count": 22
        },
        {
          "output_type": "display_data",
          "data": {
            "text/plain": [
              "<Figure size 864x720 with 0 Axes>"
            ]
          },
          "metadata": {}
        },
        {
          "output_type": "display_data",
          "data": {
            "text/plain": [
              "<Figure size 864x720 with 0 Axes>"
            ]
          },
          "metadata": {}
        },
        {
          "output_type": "display_data",
          "data": {
            "text/plain": [
              "<Figure size 864x720 with 0 Axes>"
            ]
          },
          "metadata": {}
        },
        {
          "output_type": "display_data",
          "data": {
            "text/plain": [
              "<Figure size 864x720 with 0 Axes>"
            ]
          },
          "metadata": {}
        },
        {
          "output_type": "display_data",
          "data": {
            "text/plain": [
              "<Figure size 864x720 with 0 Axes>"
            ]
          },
          "metadata": {}
        },
        {
          "output_type": "display_data",
          "data": {
            "text/plain": [
              "<Figure size 864x720 with 0 Axes>"
            ]
          },
          "metadata": {}
        },
        {
          "output_type": "display_data",
          "data": {
            "text/plain": [
              "<Figure size 864x720 with 0 Axes>"
            ]
          },
          "metadata": {}
        },
        {
          "output_type": "display_data",
          "data": {
            "text/plain": [
              "<Figure size 864x720 with 0 Axes>"
            ]
          },
          "metadata": {}
        },
        {
          "output_type": "display_data",
          "data": {
            "text/plain": [
              "<Figure size 864x720 with 0 Axes>"
            ]
          },
          "metadata": {}
        },
        {
          "output_type": "display_data",
          "data": {
            "text/plain": [
              "<Figure size 864x720 with 0 Axes>"
            ]
          },
          "metadata": {}
        },
        {
          "output_type": "display_data",
          "data": {
            "text/plain": [
              "<Figure size 864x720 with 0 Axes>"
            ]
          },
          "metadata": {}
        },
        {
          "output_type": "display_data",
          "data": {
            "text/plain": [
              "<Figure size 864x720 with 0 Axes>"
            ]
          },
          "metadata": {}
        },
        {
          "output_type": "display_data",
          "data": {
            "text/plain": [
              "<Figure size 864x720 with 0 Axes>"
            ]
          },
          "metadata": {}
        },
        {
          "output_type": "display_data",
          "data": {
            "text/plain": [
              "<Figure size 864x720 with 0 Axes>"
            ]
          },
          "metadata": {}
        },
        {
          "output_type": "display_data",
          "data": {
            "text/plain": [
              "<Figure size 864x720 with 0 Axes>"
            ]
          },
          "metadata": {}
        },
        {
          "output_type": "display_data",
          "data": {
            "text/plain": [
              "<Figure size 864x720 with 0 Axes>"
            ]
          },
          "metadata": {}
        },
        {
          "output_type": "display_data",
          "data": {
            "text/plain": [
              "<Figure size 864x720 with 0 Axes>"
            ]
          },
          "metadata": {}
        },
        {
          "output_type": "display_data",
          "data": {
            "text/plain": [
              "<Figure size 864x720 with 0 Axes>"
            ]
          },
          "metadata": {}
        },
        {
          "output_type": "display_data",
          "data": {
            "text/plain": [
              "<Figure size 864x720 with 0 Axes>"
            ]
          },
          "metadata": {}
        },
        {
          "output_type": "display_data",
          "data": {
            "text/plain": [
              "<Figure size 864x720 with 0 Axes>"
            ]
          },
          "metadata": {}
        },
        {
          "output_type": "display_data",
          "data": {
            "text/plain": [
              "<Figure size 864x720 with 0 Axes>"
            ]
          },
          "metadata": {}
        },
        {
          "output_type": "display_data",
          "data": {
            "text/plain": [
              "<Figure size 864x720 with 0 Axes>"
            ]
          },
          "metadata": {}
        },
        {
          "output_type": "display_data",
          "data": {
            "text/plain": [
              "<Figure size 864x720 with 0 Axes>"
            ]
          },
          "metadata": {}
        },
        {
          "output_type": "display_data",
          "data": {
            "text/plain": [
              "<Figure size 864x720 with 0 Axes>"
            ]
          },
          "metadata": {}
        },
        {
          "output_type": "display_data",
          "data": {
            "text/plain": [
              "<Figure size 864x720 with 0 Axes>"
            ]
          },
          "metadata": {}
        },
        {
          "output_type": "display_data",
          "data": {
            "text/plain": [
              "<Figure size 864x720 with 0 Axes>"
            ]
          },
          "metadata": {}
        },
        {
          "output_type": "display_data",
          "data": {
            "text/plain": [
              "<Figure size 864x720 with 0 Axes>"
            ]
          },
          "metadata": {}
        },
        {
          "output_type": "display_data",
          "data": {
            "text/plain": [
              "<Figure size 864x720 with 0 Axes>"
            ]
          },
          "metadata": {}
        },
        {
          "output_type": "display_data",
          "data": {
            "text/plain": [
              "<Figure size 864x720 with 0 Axes>"
            ]
          },
          "metadata": {}
        },
        {
          "output_type": "display_data",
          "data": {
            "text/plain": [
              "<Figure size 864x720 with 0 Axes>"
            ]
          },
          "metadata": {}
        },
        {
          "output_type": "display_data",
          "data": {
            "text/plain": [
              "<Figure size 864x720 with 0 Axes>"
            ]
          },
          "metadata": {}
        },
        {
          "output_type": "display_data",
          "data": {
            "text/plain": [
              "<Figure size 864x720 with 0 Axes>"
            ]
          },
          "metadata": {}
        },
        {
          "output_type": "display_data",
          "data": {
            "text/plain": [
              "<Figure size 864x720 with 0 Axes>"
            ]
          },
          "metadata": {}
        },
        {
          "output_type": "display_data",
          "data": {
            "text/plain": [
              "<Figure size 864x720 with 0 Axes>"
            ]
          },
          "metadata": {}
        },
        {
          "output_type": "display_data",
          "data": {
            "text/plain": [
              "<Figure size 864x720 with 0 Axes>"
            ]
          },
          "metadata": {}
        },
        {
          "output_type": "display_data",
          "data": {
            "text/plain": [
              "<Figure size 864x720 with 0 Axes>"
            ]
          },
          "metadata": {}
        },
        {
          "output_type": "display_data",
          "data": {
            "text/plain": [
              "<Figure size 864x720 with 0 Axes>"
            ]
          },
          "metadata": {}
        },
        {
          "output_type": "display_data",
          "data": {
            "text/plain": [
              "<Figure size 864x720 with 0 Axes>"
            ]
          },
          "metadata": {}
        },
        {
          "output_type": "display_data",
          "data": {
            "text/plain": [
              "<Figure size 864x720 with 0 Axes>"
            ]
          },
          "metadata": {}
        },
        {
          "output_type": "display_data",
          "data": {
            "text/plain": [
              "<Figure size 864x720 with 0 Axes>"
            ]
          },
          "metadata": {}
        },
        {
          "output_type": "display_data",
          "data": {
            "text/plain": [
              "<Figure size 864x720 with 0 Axes>"
            ]
          },
          "metadata": {}
        },
        {
          "output_type": "display_data",
          "data": {
            "text/plain": [
              "<Figure size 864x720 with 0 Axes>"
            ]
          },
          "metadata": {}
        },
        {
          "output_type": "display_data",
          "data": {
            "text/plain": [
              "<Figure size 864x720 with 0 Axes>"
            ]
          },
          "metadata": {}
        },
        {
          "output_type": "display_data",
          "data": {
            "text/plain": [
              "<Figure size 864x720 with 0 Axes>"
            ]
          },
          "metadata": {}
        },
        {
          "output_type": "display_data",
          "data": {
            "text/plain": [
              "<Figure size 864x720 with 0 Axes>"
            ]
          },
          "metadata": {}
        },
        {
          "output_type": "display_data",
          "data": {
            "text/plain": [
              "<Figure size 864x720 with 0 Axes>"
            ]
          },
          "metadata": {}
        },
        {
          "output_type": "display_data",
          "data": {
            "text/plain": [
              "<Figure size 864x720 with 0 Axes>"
            ]
          },
          "metadata": {}
        },
        {
          "output_type": "display_data",
          "data": {
            "text/plain": [
              "<Figure size 864x720 with 0 Axes>"
            ]
          },
          "metadata": {}
        },
        {
          "output_type": "display_data",
          "data": {
            "text/plain": [
              "<Figure size 864x720 with 0 Axes>"
            ]
          },
          "metadata": {}
        },
        {
          "output_type": "display_data",
          "data": {
            "text/plain": [
              "<Figure size 864x720 with 0 Axes>"
            ]
          },
          "metadata": {}
        },
        {
          "output_type": "display_data",
          "data": {
            "text/plain": [
              "<Figure size 864x720 with 0 Axes>"
            ]
          },
          "metadata": {}
        },
        {
          "output_type": "display_data",
          "data": {
            "text/plain": [
              "<Figure size 864x720 with 0 Axes>"
            ]
          },
          "metadata": {}
        },
        {
          "output_type": "display_data",
          "data": {
            "text/plain": [
              "<Figure size 864x720 with 0 Axes>"
            ]
          },
          "metadata": {}
        },
        {
          "output_type": "display_data",
          "data": {
            "text/plain": [
              "<Figure size 864x720 with 0 Axes>"
            ]
          },
          "metadata": {}
        },
        {
          "output_type": "display_data",
          "data": {
            "text/plain": [
              "<Figure size 864x720 with 0 Axes>"
            ]
          },
          "metadata": {}
        },
        {
          "output_type": "display_data",
          "data": {
            "text/plain": [
              "<Figure size 864x720 with 0 Axes>"
            ]
          },
          "metadata": {}
        },
        {
          "output_type": "display_data",
          "data": {
            "text/plain": [
              "<Figure size 864x720 with 0 Axes>"
            ]
          },
          "metadata": {}
        },
        {
          "output_type": "display_data",
          "data": {
            "text/plain": [
              "<Figure size 864x720 with 0 Axes>"
            ]
          },
          "metadata": {}
        },
        {
          "output_type": "display_data",
          "data": {
            "text/plain": [
              "<Figure size 864x720 with 0 Axes>"
            ]
          },
          "metadata": {}
        },
        {
          "output_type": "display_data",
          "data": {
            "text/plain": [
              "<Figure size 864x720 with 0 Axes>"
            ]
          },
          "metadata": {}
        },
        {
          "output_type": "display_data",
          "data": {
            "text/plain": [
              "<Figure size 864x720 with 0 Axes>"
            ]
          },
          "metadata": {}
        },
        {
          "output_type": "display_data",
          "data": {
            "text/plain": [
              "<Figure size 864x720 with 0 Axes>"
            ]
          },
          "metadata": {}
        },
        {
          "output_type": "display_data",
          "data": {
            "text/plain": [
              "<Figure size 864x720 with 0 Axes>"
            ]
          },
          "metadata": {}
        },
        {
          "output_type": "display_data",
          "data": {
            "text/plain": [
              "<Figure size 864x720 with 0 Axes>"
            ]
          },
          "metadata": {}
        },
        {
          "output_type": "display_data",
          "data": {
            "text/plain": [
              "<Figure size 864x720 with 0 Axes>"
            ]
          },
          "metadata": {}
        },
        {
          "output_type": "display_data",
          "data": {
            "text/plain": [
              "<Figure size 864x720 with 0 Axes>"
            ]
          },
          "metadata": {}
        },
        {
          "output_type": "display_data",
          "data": {
            "text/plain": [
              "<Figure size 864x720 with 0 Axes>"
            ]
          },
          "metadata": {}
        },
        {
          "output_type": "display_data",
          "data": {
            "text/plain": [
              "<Figure size 864x720 with 0 Axes>"
            ]
          },
          "metadata": {}
        },
        {
          "output_type": "display_data",
          "data": {
            "text/plain": [
              "<Figure size 864x720 with 0 Axes>"
            ]
          },
          "metadata": {}
        },
        {
          "output_type": "display_data",
          "data": {
            "text/plain": [
              "<Figure size 864x720 with 0 Axes>"
            ]
          },
          "metadata": {}
        },
        {
          "output_type": "display_data",
          "data": {
            "text/plain": [
              "<Figure size 864x720 with 0 Axes>"
            ]
          },
          "metadata": {}
        },
        {
          "output_type": "display_data",
          "data": {
            "text/plain": [
              "<Figure size 864x720 with 0 Axes>"
            ]
          },
          "metadata": {}
        },
        {
          "output_type": "display_data",
          "data": {
            "text/plain": [
              "<Figure size 864x720 with 0 Axes>"
            ]
          },
          "metadata": {}
        },
        {
          "output_type": "display_data",
          "data": {
            "text/plain": [
              "<Figure size 864x720 with 0 Axes>"
            ]
          },
          "metadata": {}
        },
        {
          "output_type": "display_data",
          "data": {
            "text/plain": [
              "<Figure size 864x720 with 0 Axes>"
            ]
          },
          "metadata": {}
        },
        {
          "output_type": "display_data",
          "data": {
            "text/plain": [
              "<Figure size 864x720 with 0 Axes>"
            ]
          },
          "metadata": {}
        },
        {
          "output_type": "display_data",
          "data": {
            "text/plain": [
              "<Figure size 864x720 with 0 Axes>"
            ]
          },
          "metadata": {}
        },
        {
          "output_type": "display_data",
          "data": {
            "text/plain": [
              "<Figure size 864x720 with 0 Axes>"
            ]
          },
          "metadata": {}
        },
        {
          "output_type": "display_data",
          "data": {
            "text/plain": [
              "<Figure size 864x720 with 0 Axes>"
            ]
          },
          "metadata": {}
        },
        {
          "output_type": "display_data",
          "data": {
            "text/plain": [
              "<Figure size 864x720 with 0 Axes>"
            ]
          },
          "metadata": {}
        },
        {
          "output_type": "display_data",
          "data": {
            "text/plain": [
              "<Figure size 864x720 with 0 Axes>"
            ]
          },
          "metadata": {}
        },
        {
          "output_type": "display_data",
          "data": {
            "text/plain": [
              "<Figure size 864x720 with 0 Axes>"
            ]
          },
          "metadata": {}
        },
        {
          "output_type": "display_data",
          "data": {
            "text/plain": [
              "<Figure size 864x720 with 0 Axes>"
            ]
          },
          "metadata": {}
        },
        {
          "output_type": "display_data",
          "data": {
            "text/plain": [
              "<Figure size 864x720 with 0 Axes>"
            ]
          },
          "metadata": {}
        },
        {
          "output_type": "display_data",
          "data": {
            "text/plain": [
              "<Figure size 864x720 with 0 Axes>"
            ]
          },
          "metadata": {}
        },
        {
          "output_type": "display_data",
          "data": {
            "text/plain": [
              "<Figure size 864x720 with 0 Axes>"
            ]
          },
          "metadata": {}
        },
        {
          "output_type": "display_data",
          "data": {
            "text/plain": [
              "<Figure size 864x720 with 0 Axes>"
            ]
          },
          "metadata": {}
        },
        {
          "output_type": "display_data",
          "data": {
            "text/plain": [
              "<Figure size 864x720 with 0 Axes>"
            ]
          },
          "metadata": {}
        },
        {
          "output_type": "display_data",
          "data": {
            "text/plain": [
              "<Figure size 864x720 with 0 Axes>"
            ]
          },
          "metadata": {}
        },
        {
          "output_type": "display_data",
          "data": {
            "text/plain": [
              "<Figure size 864x720 with 0 Axes>"
            ]
          },
          "metadata": {}
        },
        {
          "output_type": "display_data",
          "data": {
            "text/plain": [
              "<Figure size 864x720 with 0 Axes>"
            ]
          },
          "metadata": {}
        },
        {
          "output_type": "display_data",
          "data": {
            "text/plain": [
              "<Figure size 864x720 with 0 Axes>"
            ]
          },
          "metadata": {}
        },
        {
          "output_type": "display_data",
          "data": {
            "text/plain": [
              "<Figure size 864x720 with 0 Axes>"
            ]
          },
          "metadata": {}
        },
        {
          "output_type": "display_data",
          "data": {
            "text/plain": [
              "<Figure size 864x720 with 0 Axes>"
            ]
          },
          "metadata": {}
        },
        {
          "output_type": "display_data",
          "data": {
            "text/plain": [
              "<Figure size 864x720 with 0 Axes>"
            ]
          },
          "metadata": {}
        },
        {
          "output_type": "display_data",
          "data": {
            "text/plain": [
              "<Figure size 864x720 with 0 Axes>"
            ]
          },
          "metadata": {}
        },
        {
          "output_type": "display_data",
          "data": {
            "text/plain": [
              "<Figure size 864x720 with 0 Axes>"
            ]
          },
          "metadata": {}
        },
        {
          "output_type": "display_data",
          "data": {
            "text/plain": [
              "<Figure size 864x720 with 0 Axes>"
            ]
          },
          "metadata": {}
        },
        {
          "output_type": "display_data",
          "data": {
            "text/plain": [
              "<Figure size 864x720 with 0 Axes>"
            ]
          },
          "metadata": {}
        },
        {
          "output_type": "display_data",
          "data": {
            "text/plain": [
              "<Figure size 864x720 with 0 Axes>"
            ]
          },
          "metadata": {}
        },
        {
          "output_type": "display_data",
          "data": {
            "text/plain": [
              "<Figure size 864x720 with 2 Axes>"
            ],
            "image/png": "[encoded data removed]"
          },
          "metadata": {
            "needs_background": "light"
          }
        }
      ],
      "source": [
        "plt.rcParams[\"figure.figsize\"] = (12,10)\n",
        "fig, axs = plt.subplots(2)\n",
        "\n",
        "serie = []\n",
        "serieAmp = []\n",
        "for i in range(0,25):\n",
        "  nv = amostragem()\n",
        "  serie.append(nv[\"mediaAmostral\"])\n",
        "  serieAmp.append(nv[\"amplitude\"])\n",
        "\n",
        "filenames=[]\n",
        "out = display(progress(0, 100), display_id=True)\n",
        "\n",
        "\n",
        "for k in range(0,100):\n",
        "  plt.clf()\n",
        "  fig, axs = plt.subplots(2)\n",
        "  print(k)\n",
        "\n",
        "  # declarando momento em q processo perde o controle:\n",
        "  if k>10 and k<20:\n",
        "    nvSerie = novaAmostraGlobal(serie,serieAmp,conteudoNominal=500,dp=2.0)\n",
        "    plt.legend(\"Amostra Fora de Controle\")\n",
        "  if k>70 and k<90:\n",
        "    nvSerie = novaAmostraGlobal(serie,serieAmp,conteudoNominal=502,dp=1.5)\n",
        "  else:\n",
        "    nvSerie = novaAmostraGlobal(serie,serieAmp)\n",
        "  plt.title(\"Amostra Fora de Controle\")  \n",
        "  # colocar esta parte como comentário quando usar a linha para tirar o processo de controle\n",
        "  # nvSerie = novaAmostraGlobal(serie,serieAmp)\n",
        "  serie = nvSerie[\"mediaAmostral\"]\n",
        "  serieAmp = nvSerie[\"amplitude\"]\n",
        "\n",
        "  s = pd.Series(serie)\n",
        "  clear_output(wait=True)\n",
        "  s.plot(ax = axs[0], use_index=False,ylim=(498,502),color=\"black\")\n",
        "\n",
        "\n",
        "  # plotando zonas:\n",
        "  #zona C:\n",
        "  axs[0].axhline(y=500,color=\"#2ee312\",linewidth=54,alpha=.3)\n",
        "\n",
        "  #zona B:\n",
        "  axs[0].axhline(y=499.99+3/2*desvioPadrao,color=\"#a6e637\",linewidth=28,alpha=.3)\n",
        "  axs[0].axhline(y=500.01-3/2*desvioPadrao,color=\"#a6e637\",linewidth=28,alpha=.3)\n",
        "\n",
        "  #zona A:\n",
        "  axs[0].axhline(y=500-5/2*desvioPadrao,color=\"#f0901a\",linewidth=27.58,alpha=.3)\n",
        "  axs[0].axhline(y=500+5/2*desvioPadrao,color=\"#f0901a\",linewidth=27.58,alpha=.3)\n",
        "\n",
        "\n",
        "  axs[0].axhline(y=500,color=\"green\")\n",
        "  axs[0].axhline(y=limSup,color=\"red\")\n",
        "  axs[0].axhline(y=limInf,color=\"red\")\n",
        "  s.plot(ax = axs[0], use_index=False,ylim=(498,502),color=\"black\")\n",
        "\n",
        "  for p in range(0,len(serie)):\n",
        "    axs[0].plot(p,serie[p],marker=\"o\",markersize=4,color=\"black\")\n",
        "\n",
        "  # plotando agora o gráfico de R\n",
        "  serieAmp = novaAmostraAmp(serieAmp)\n",
        "\n",
        "  r = pd.Series(serieAmp)\n",
        "  clear_output(wait=True)\n",
        "  r.plot(ax = axs[1], use_index=False,ylim=(-1,6),color=\"black\")\n",
        "\n",
        "  # plotando zonas:\n",
        "  #zona C:\n",
        "  axs[1].axhline(y=rBarra,color=\"#2ee312\",linewidth=54,alpha=.3)\n",
        "\n",
        "  #zona B:\n",
        "  axs[1].axhline(y=rBarra-0.07+3/2*desvioPadraoAmplitude,color=\"#a6e637\",linewidth=31.7,alpha=.3)\n",
        "  axs[1].axhline(y=rBarra/2,color=\"#2ee312\",linewidth=29,alpha=.3)\n",
        "\n",
        "  #zona A:\n",
        "  axs[1].axhline(y=(rBarra/6)-0.02,color=\"#2ee312\",linewidth=28.2,alpha=.3)\n",
        "  axs[1].axhline(y=rBarra-0.035+5/2*desvioPadraoAmplitude,color=\"#f0901a\",linewidth=31.2,alpha=.3)\n",
        "\n",
        "\n",
        "  axs[1].axhline(y=rBarra,color=\"green\")\n",
        "  axs[1].axhline(y=limSupAmp,color=\"red\")\n",
        "  axs[1].axhline(y=limInfAmp,color=\"black\")\n",
        "  r.plot(ax = axs[1], use_index=False,ylim=(-1,6),color=\"black\")\n",
        "\n",
        "  for p in range(0,len(serieAmp)):\n",
        "    axs[1].plot(p,serieAmp[p],marker=\"o\",markersize=4,color=\"black\")\n",
        "\n",
        "  axs[0].title.set_text(\"$X̄$\")\n",
        "  axs[1].title.set_text(\"$R̄$\")\n",
        "\n",
        "  # plt.pause(.5)\n",
        "  amostra = 500-serie[len(serie)-1]\n",
        "\n",
        "  # Controles do Processo:\n",
        "\n",
        "  # se um ponto estiver fora do limSup e limInf:\n",
        "  # if amostra > (desvioPadrao*3) or amostra < (-desvioPadrao*3):\n",
        "  #   print(\"Amostra fora do intervalo de 3 desvios padrões!\")\n",
        "  #   print(\"Média amostral: \", 500-amostra)\n",
        "  #   print(\"Processo saiu de controle na amostra: \",k)\n",
        "  #   break\n",
        "\n",
        "  plt.savefig(\"/content/amostra_\"+str(k)+\".png\",dpi=180)\n",
        "  nome=\"/content/amostra_\"+str(k)+\".png\"\n",
        "  filenames.append(nome)\n",
        "  out.update(progress(k+1, 100))\n",
        "\n",
        "clear_output(wait=True)\n",
        "print(\"Imagens finalizadas.\")\n",
        "print(\"Gerando animação...\")\n",
        "t = len(filenames)\n",
        "i = 0\n",
        "with imageio.get_writer('serie.gif',duration=0.8) as writer:\n",
        "    for filename in filenames:\n",
        "        image = imageio.imread(filename)\n",
        "        writer.append_data(image)\n",
        "        out.update(progress(i+1, t))\n",
        "        i+=1\n",
        "plt.imshow(mpimg.imread(\"/content/serie.gif\"))\n",
        "\n",
        "clip = mp.VideoFileClip(\"serie.gif\")\n",
        "clip.write_videofile(\"serie.mp4\")\n",
        "\n",
        "url = upload_public('serie.mp4')\n",
        "clear_output(wait=True)\n",
        "HTML(f\"\"\"<video src={url} width=800 controls/>\"\"\")\n"
      ]
    },
    {
      "cell_type": "markdown",
      "metadata": {
        "id": "Qf7Vf4scjubP"
      },
      "source": [
        "# Erros de Decisão"
      ]
    },
    {
      "cell_type": "markdown",
      "metadata": {
        "id": "02b4Q7R2cY0B"
      },
      "source": [
        "### Alarme Falso\n"
      ]
    },
    {
      "cell_type": "markdown",
      "metadata": {
        "id": "J0uMCRyyjySe"
      },
      "source": [
        "\n",
        "\n",
        "A probabilidade associada ao alarme falso é, nas estatística, a chance de um Erro Tipo I. Cometer este erro é considerar erroneamente o processo fora de controle quando ele na verdade se encontrava ainda sob controle estatístico; em outras palavras: a chance de intervir na hora errada.\n",
        "\n",
        "Estatísticamente, este erro é conotado como $α$ e é calculado através da distribuição $Z$:\n",
        "\n",
        "> $\\alpha \\:=\\:P\\left\\{Z\\:>\\frac{LSC-\\mu }{\\sigma }\\right\\}\\:+\\:P\\left\\{Z\\:<\\:\\frac{LIC\\:-\\:\\mu }{\\sigma }\\right\\}$\n",
        "\n",
        "Para descobrirmos, portanto, qual é essa probabilidade de que qualquer ponto exceda os limites de controle, podemos utilizar o código:"
      ]
    },
    {
      "cell_type": "code",
      "execution_count": null,
      "metadata": {
        "colab": {
          "base_uri": "https://localhost:8080/"
        },
        "id": "d40AbLkdSpCc",
        "outputId": "9bda138b-63c7-4b15-c8f0-6c6c534f68fa"
      },
      "outputs": [
        {
          "output_type": "stream",
          "name": "stdout",
          "text": [
            "A chance de um ponto cair fora dos limites de controle com o processo ainda sob controle é de: 0.26998 %\n",
            "Ou seja, 1 a cada 371 pontos cairá naturalmente fora dos limites com o processo sob controle.\n"
          ]
        }
      ],
      "source": [
        "alfa = 1-(norm.cdf(limSup,media,desvioPadrao)-norm.cdf(limInf,media,desvioPadrao))\n",
        "print(\"A chance de um ponto cair fora dos limites de controle com o processo ainda sob controle é de:\", np.round(alfa*100,5), \"%\")\n",
        "print(\"Ou seja, 1 a cada\", math.ceil(1/alfa), \"pontos cairá naturalmente fora dos limites com o processo sob controle.\")"
      ]
    },
    {
      "cell_type": "markdown",
      "metadata": {
        "id": "5j8rZDZGaTrz"
      },
      "source": [
        "### Alarme Verdadeiro"
      ]
    },
    {
      "cell_type": "markdown",
      "metadata": {
        "id": "iGOv6_OMcWlC"
      },
      "source": [
        "O problema do Alarme Verdadeiro diz respeito à chance de que o processo tenha sofrido uma mudança na sua média e esta mudança seja corretamente detectada pelo gráfico de controle.\n",
        "\n",
        "Para isso, imaginamos uma nova distribuição centrada nesta média nova obtida e, a partir dela, calculamos a proporção desta nova distribuição que ainda se encontra dentro dos limites de controle originais.\n",
        "\n",
        "Vamos simular um exemplo onde ocorra uma variação de 1,5 desvios padrões para cima na média:"
      ]
    },
    {
      "cell_type": "code",
      "execution_count": null,
      "metadata": {
        "id": "aVA57OaFev7h"
      },
      "outputs": [],
      "source": [
        "numeroAmostra = 100000\n",
        "muitasAmostras2 = []\n",
        "for i in range(0,numeroAmostra):\n",
        "  muitasAmostras2.append(amostragem(conteudoNominal=500+1.5*desvioPadrao)[\"mediaAmostral\"])"
      ]
    },
    {
      "cell_type": "code",
      "execution_count": null,
      "metadata": {
        "colab": {
          "base_uri": "https://localhost:8080/",
          "height": 609
        },
        "outputId": "a0c12c5c-b502-497c-c205-636ea14c770b",
        "id": "YYUFSCRtev7j"
      },
      "outputs": [
        {
          "output_type": "execute_result",
          "data": {
            "text/plain": [
              "<matplotlib.lines.Line2D at 0x7f3866320bd0>"
            ]
          },
          "metadata": {},
          "execution_count": 52
        },
        {
          "output_type": "display_data",
          "data": {
            "text/plain": [
              "<Figure size 864x720 with 1 Axes>"
            ],
            "image/png": "[encoded data removed]"
          },
          "metadata": {
            "needs_background": "light"
          }
        }
      ],
      "source": [
        "plt.hist(muitasAmostras2, bins=20)\n",
        "plt.axvline(x=500,color=\"green\")\n",
        "plt.axvline(x=limSup,color=\"red\")\n",
        "plt.axvline(x=limInf,color=\"red\")\n",
        "plt.axvline(x=500.01+1.5*desvioPadrao,color=\"blue\")"
      ]
    },
    {
      "cell_type": "markdown",
      "source": [
        "No histograma acima, fica claro que boa parte das amostras obtidas ainda estariam dentro dos limites de controle originais do processo. Na verdade, podemos calcular exatamente quantas amostras cairam fora:"
      ],
      "metadata": {
        "id": "48CA2gijg05Q"
      }
    },
    {
      "cell_type": "code",
      "source": [
        "filtro = filter(lambda amostra: amostra < limSup, muitasAmostras2)\n",
        "filtro = filter(lambda amostra: amostra > limInf, filtro)\n",
        "filtro = list(filtro)\n",
        "print(round(100-(len(filtro)/len(muitasAmostras2)*100),2),\"%\")"
      ],
      "metadata": {
        "colab": {
          "base_uri": "https://localhost:8080/"
        },
        "id": "NJih_8SHfKBn",
        "outputId": "9011566a-c71a-4f81-91c3-c273e6594322"
      },
      "execution_count": null,
      "outputs": [
        {
          "output_type": "stream",
          "name": "stdout",
          "text": [
            "6.6 %\n"
          ]
        }
      ]
    },
    {
      "cell_type": "markdown",
      "source": [
        "Ou seja, apenas 6,6% das amostras realizadas cairiam fora dos limites. Para melhor compreender isso, podemos traçar um gráfico de poder do nosso gráfico de controle."
      ],
      "metadata": {
        "id": "uLzjA4mshE2A"
      }
    },
    {
      "cell_type": "code",
      "execution_count": null,
      "metadata": {
        "id": "tqp6FYc6dUdl"
      },
      "outputs": [],
      "source": [
        "def alarmeVerdadeiro(nvMedia,limSup,limInf,desvioPadrao):\n",
        "  lsc = norm.cdf(limSup,nvMedia,desvioPadrao)\n",
        "  lic = norm.cdf(limInf,nvMedia,desvioPadrao)\n",
        "  beta = (lsc-lic)\n",
        "  poder = 1 - beta\n",
        "  CMS = 1/poder\n",
        "  d = {\"beta\":beta,\n",
        "       \"poder\":poder,\n",
        "       \"cms\":CMS}\n",
        "  return d"
      ]
    },
    {
      "cell_type": "code",
      "execution_count": null,
      "metadata": {
        "colab": {
          "base_uri": "https://localhost:8080/"
        },
        "id": "wWa2uqs-fclb",
        "outputId": "547c4d7b-9781-4da8-bdc1-7d9b5d08b816"
      },
      "outputs": [
        {
          "output_type": "execute_result",
          "data": {
            "text/plain": [
              "{'beta': 0.970070311116786,\n",
              " 'cms': 33.41164032482968,\n",
              " 'poder': 0.029929688883214012}"
            ]
          },
          "metadata": {},
          "execution_count": 25
        }
      ],
      "source": [
        "nvMedia = 500.5\n",
        "alarmeVerdadeiro(nvMedia,limSup,limInf,desvioPadrao)"
      ]
    },
    {
      "cell_type": "code",
      "execution_count": null,
      "metadata": {
        "colab": {
          "base_uri": "https://localhost:8080/",
          "height": 633
        },
        "id": "JZvP8tJ5jGO5",
        "outputId": "f620ae72-c7a3-4711-b1c8-c35323c19d1a"
      },
      "outputs": [
        {
          "output_type": "display_data",
          "data": {
            "text/plain": [
              "<Figure size 864x720 with 1 Axes>"
            ],
            "image/png": "[encoded data removed]"
          },
          "metadata": {
            "needs_background": "light"
          }
        }
      ],
      "source": [
        "poder = []\n",
        "desloc = []\n",
        "for deslocamento in range(0,1000):\n",
        "  novaMedia = 500+(deslocamento*((desvioPadrao*6)/1000))\n",
        "  desloc.append((novaMedia-500)/desvioPadrao)\n",
        "  poder.append(alarmeVerdadeiro(novaMedia,\n",
        "                                limSup,limInf,desvioPadrao)[\"poder\"])\n",
        "\n",
        "plt.plot(desloc,poder)\n",
        "plt.xlim(0,6)\n",
        "plt.ylim(0,1.02)\n",
        "plt.title(\"Poder de Detecção para $n = 5$\",fontsize=20)\n",
        "plt.xlabel(\"Desvios em Nº de δ\",fontsize=15)\n",
        "plt.ylabel(\"Poder\",fontsize=15)\n",
        "for p in range (0,12):\n",
        "  ponto = p/2\n",
        "  plt.plot(ponto,\n",
        "           alarmeVerdadeiro(500+ponto*desvioPadrao,\n",
        "                            limSup,limInf,desvioPadrao)[\"poder\"],\n",
        "           marker=\"o\",markersize=5,color=\"black\")\n",
        "  plt.annotate(s=str(np.round(alarmeVerdadeiro(500+ponto*desvioPadrao,\n",
        "                                               limSup,\n",
        "                                               limInf,\n",
        "                                               desvioPadrao)[\"poder\"]*100,\n",
        "                              2))+\"%\",\n",
        "               xy=(ponto,alarmeVerdadeiro(500+ponto*desvioPadrao,\n",
        "                                          limSup,\n",
        "                                          limInf,\n",
        "                                          desvioPadrao)[\"poder\"]),\n",
        "               xytext=(ponto+0.05,alarmeVerdadeiro(500+ponto*desvioPadrao,\n",
        "                                                   limSup,\n",
        "                                                   limInf,\n",
        "                                                   desvioPadrao)[\"poder\"]+0.01))"
      ]
    },
    {
      "cell_type": "markdown",
      "source": [
        "Esse gráfico representa o poder de detecção em função do número de desvios padrões. Percebemos que para um desvio da média de 3 vezes o desvio padrão, a chance de detectarmos um ponto fora do limite de controle é de 50%, ou seja, metade dos pontos cairiam dentro dos limites e metade fora. De fato, para o desvio que vimos anteriormente, de 1,5, o número de 6,6% aparece novamente.\n",
        "\n",
        "Um último gráfico pode demonstrar qual a probabilidade de cometermos um erro do tipo II para cada valor de nova média do nosso processo de fabricação de milhos de pipoca."
      ],
      "metadata": {
        "id": "xZAzj8jYheVR"
      }
    },
    {
      "cell_type": "code",
      "execution_count": null,
      "metadata": {
        "colab": {
          "base_uri": "https://localhost:8080/",
          "height": 623
        },
        "id": "bZzdVz804G2M",
        "outputId": "52d89a6f-0f7c-4e62-df52-27d616ffca80"
      },
      "outputs": [
        {
          "output_type": "display_data",
          "data": {
            "text/plain": [
              "<Figure size 864x720 with 2 Axes>"
            ],
            "image/png": "[encoded data removed]"
          },
          "metadata": {
            "needs_background": "light"
          }
        }
      ],
      "source": [
        "grafBeta = []\n",
        "grafDesloc = []\n",
        "grafCMS = []\n",
        "for deslocamento in range(0,2000):\n",
        "  novaMedia = 497.5+(deslocamento*0.0025)\n",
        "  grafDesloc.append(novaMedia)\n",
        "  grafBeta.append(alarmeVerdadeiro(novaMedia,\n",
        "                                   limSup,\n",
        "                                   limInf,\n",
        "                                   desvioPadrao)[\"beta\"])\n",
        "  grafCMS.append(alarmeVerdadeiro(novaMedia,\n",
        "                                  limSup,\n",
        "                                  limInf,\n",
        "                                  desvioPadrao)[\"cms\"])\n",
        "\n",
        "plt.axvline(500,color=\"#2ee312\",linewidth=107,alpha=.3)\n",
        "\n",
        "plt.axvline(500+3/2*desvioPadrao,color=\"#a6e637\",linewidth=56,alpha=.3)\n",
        "plt.axvline(500-3/2*desvioPadrao,color=\"#a6e637\",linewidth=56,alpha=.3)\n",
        "\n",
        "plt.axvline(500+5/2*desvioPadrao,color=\"#f0901a\",linewidth=54,alpha=.3)\n",
        "plt.axvline(500-5/2*desvioPadrao,color=\"#f0901a\",linewidth=54,alpha=.3)\n",
        "\n",
        "ax1 = plt.subplot()\n",
        "l1, = ax1.plot(grafDesloc,grafBeta, color=\"blue\")\n",
        "ax2 = ax1.twinx()\n",
        "l2, = ax2.plot(grafDesloc,grafCMS, color=\"red\")\n",
        "\n",
        "\n",
        "plt.title(\"Curva de Desempenho\",fontsize=15)\n",
        "ax1.set_xlabel(\"Deslocamento\")\n",
        "plt.legend([l1, l2],\n",
        "           [\"Probabilidade de Erro do Tipo II (Beta)\",\n",
        "            \"Nº de amostras até confirmação\"])\n",
        "\n",
        "plt.show()"
      ]
    },
    {
      "cell_type": "markdown",
      "source": [
        "Aqui temos o número esperado de amostras até que um ponto caia fora dos limites de controle, além da probabilidade de cometermos um erro do tipo II para cada desvio da média."
      ],
      "metadata": {
        "id": "ytGBCEUyiLSy"
      }
    }
  ],
  "metadata": {
    "accelerator": "GPU",
    "colab": {
      "collapsed_sections": [
        "LTFljpHZ0ujM",
        "Iza1aSIv-zD4",
        "57T-StSz0eFr"
      ],
      "name": "Gráfico de Controle e Erros de Decisão.ipynb",
      "provenance": []
    },
    "kernelspec": {
      "display_name": "Python 3",
      "name": "python3"
    },
    "language_info": {
      "name": "python"
    }
  },
  "nbformat": 4,
  "nbformat_minor": 0
}